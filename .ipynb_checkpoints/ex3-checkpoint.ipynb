{
 "cells": [
  {
   "cell_type": "code",
   "execution_count": 1,
   "id": "c3fc76bf-a645-45c9-a77f-c001f2ce8d54",
   "metadata": {},
   "outputs": [
    {
     "name": "stdout",
     "output_type": "stream",
     "text": [
      "There are 10 type of people.\n",
      "Those who know binary and those who don't.\n",
      "I said: 'There are 10 type of people.'.\n",
      "I also said: 'Those who know binary and those who don't.'.\n",
      "Isn't that joke so funny?! False\n",
      "This is the left side of...a string with a right side.\n"
     ]
    }
   ],
   "source": [
    "x = \"There are %d type of people.\" %10\n",
    "binary = \"binary\"\n",
    "do_not = \"don't\"\n",
    "y = \"Those who know %s and those who %s.\" %(binary, do_not)\n",
    "\n",
    "print(x)\n",
    "print(y)\n",
    "# use format \n",
    "print(\"I said: %r.\"% x)\n",
    "print(\"I also said: '%s'.\" %y)\n",
    "# use format in variable\n",
    "hilarious = False\n",
    "joke_evaluation = \"Isn't that joke so funny?! %r\"\n",
    "print(joke_evaluation % hilarious)\n",
    "\n",
    "w = \"This is the left side of...\"\n",
    "e = \"a string with a right side.\"\n",
    "\n",
    "print(w + e)\n",
    "\n",
    "\n"
   ]
  },
  {
   "cell_type": "code",
   "execution_count": 3,
   "id": "f2fede61-cc2f-4238-8605-f33084bf29c2",
   "metadata": {},
   "outputs": [
    {
     "name": "stdout",
     "output_type": "stream",
     "text": [
      "Mary had a little lamb.\n",
      "Its fleece was white as snow\n",
      "And everywhere that Mary went.\n",
      "..........\n",
      "Cheese\n",
      "Burger\n"
     ]
    }
   ],
   "source": [
    "print(\"Mary had a little lamb.\")\n",
    "print(\"Its fleece was white as %s\" % 'snow')\n",
    "print(\"And everywhere that Mary went.\")\n",
    "print(\".\"*10)# what 'd that do ? X10 string \n",
    "# add variable\n",
    "end1 = \"C\"\n",
    "end2 = \"h\"\n",
    "end3 = \"e\"\n",
    "end4 = \"e\"\n",
    "end5 = \"s\"\n",
    "end6 = \"e\"\n",
    "end7 = \"B\"\n",
    "end8 = \"u\"\n",
    "end9 = \"r\"\n",
    "end10 = \"g\"\n",
    "end11 = \"e\"\n",
    "end12 = \"r\"\n",
    "\n",
    "#what that comma at the end. try removing it to see what happens\n",
    "print(end1 + end2 + end3 + end4 + end5 + end6)\n",
    "print(end7 + end8 + end9 + end10 + end11 + end12 )\n",
    "\n"
   ]
  },
  {
   "cell_type": "code",
   "execution_count": 4,
   "id": "3f0f015a-a35d-459c-9585-fcd93cc51e08",
   "metadata": {},
   "outputs": [
    {
     "name": "stdout",
     "output_type": "stream",
     "text": [
      "1 2 3 4\n",
      "'one' 'two' 'three' 'four'\n",
      "True False False True\n",
      "'%r %r %r %r' '%r %r %r %r' '%r %r %r %r' '%r %r %r %r'\n",
      "'I had this thing.' 'That you could type up right.' \"But it did'nt sing.\" 'So I said goodnight.'\n"
     ]
    }
   ],
   "source": [
    "formatter = \"%r %r %r %r\"\n",
    "print(formatter %(1, 2, 3, 4))\n",
    "print(formatter %(\"one\", \"two\", \"three\", \"four\"))\n",
    "print(formatter %(True, False, False, True))\n",
    "print(formatter %(formatter, formatter, formatter, formatter))\n",
    "print(formatter %(\n",
    "    \"I had this thing.\",\n",
    "    \"That you could type up right.\",\n",
    "    \"But it did'nt sing.\",\n",
    "    \"So I said goodnight.\"\n",
    "))"
   ]
  },
  {
   "cell_type": "code",
   "execution_count": 7,
   "id": "9f60c027-5e07-46ab-baa8-957b42be56a7",
   "metadata": {},
   "outputs": [
    {
     "name": "stdout",
     "output_type": "stream",
     "text": [
      "Here are the day: Mon Tue Wed Thu Sat Sun\n",
      "Here are the month: Jan\n",
      "Fed\n",
      "May\n",
      "Jun\n",
      "Jul\n",
      "Aug\n",
      "\n",
      "There 's something going on here.\n",
      "With the three double-qoutes.\n",
      "We'll be able to type as much as we like.\n",
      "Even 4 line if we want, or 5, or 6.\n",
      "\n"
     ]
    }
   ],
   "source": [
    "# here 's some new strange stuff, remember type it exactly.\n",
    "\n",
    "day = \"Mon Tue Wed Thu Sat Sun\"\n",
    "months = \"Jan\\nFed\\nMay\\nJun\\nJul\\nAug\"\n",
    "\n",
    "print(\"Here are the day:\", day)\n",
    "print(\"Here are the month:\", months)\n",
    "\n",
    "print(\"\"\"\n",
    "There 's something going on here.\n",
    "With the three double-qoutes.\n",
    "We'll be able to type as much as we like.\n",
    "Even 4 line if we want, or 5, or 6.\n",
    "\"\"\")"
   ]
  },
  {
   "cell_type": "code",
   "execution_count": 10,
   "id": "f11e714a-4c62-4260-9cc5-1f3f58c5f083",
   "metadata": {},
   "outputs": [
    {
     "ename": "TypeError",
     "evalue": "%d format: a real number is required, not str",
     "output_type": "error",
     "traceback": [
      "\u001b[1;31m---------------------------------------------------------------------------\u001b[0m",
      "\u001b[1;31mTypeError\u001b[0m                                 Traceback (most recent call last)",
      "Cell \u001b[1;32mIn[10], line 1\u001b[0m\n\u001b[1;32m----> 1\u001b[0m \u001b[38;5;28mprint\u001b[39m(\u001b[38;5;124;43m\"\u001b[39;49m\u001b[38;5;124;43mHere are the month:\u001b[39;49m\u001b[38;5;132;43;01m%d\u001b[39;49;00m\u001b[38;5;124;43m\"\u001b[39;49m\u001b[43m \u001b[49m\u001b[38;5;241;43m%\u001b[39;49m\u001b[43m \u001b[49m\u001b[43mmonths\u001b[49m)\n",
      "\u001b[1;31mTypeError\u001b[0m: %d format: a real number is required, not str"
     ]
    }
   ],
   "source": [
    "print(\"Here are the month:%d\" % months) "
   ]
  },
  {
   "cell_type": "code",
   "execution_count": 11,
   "id": "54cdda1a-1d65-4ab7-84f2-941b7d05ee93",
   "metadata": {},
   "outputs": [
    {
     "name": "stdout",
     "output_type": "stream",
     "text": [
      "Here are the month:'Jan\\nFed\\nMay\\nJun\\nJul\\nAug'\n"
     ]
    }
   ],
   "source": [
    "print(\"Here are the month:%r\" % months) # use format %r to debugging and it display exactly what you wright"
   ]
  },
  {
   "cell_type": "code",
   "execution_count": null,
   "id": "ff79da30-14f5-4542-979c-73d9deaa897c",
   "metadata": {},
   "outputs": [],
   "source": []
  }
 ],
 "metadata": {
  "kernelspec": {
   "display_name": "Python 3 (ipykernel)",
   "language": "python",
   "name": "python3"
  },
  "language_info": {
   "codemirror_mode": {
    "name": "ipython",
    "version": 3
   },
   "file_extension": ".py",
   "mimetype": "text/x-python",
   "name": "python",
   "nbconvert_exporter": "python",
   "pygments_lexer": "ipython3",
   "version": "3.11.3"
  }
 },
 "nbformat": 4,
 "nbformat_minor": 5
}
