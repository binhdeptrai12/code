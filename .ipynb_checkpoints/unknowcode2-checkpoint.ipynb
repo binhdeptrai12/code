{
 "cells": [
  {
   "cell_type": "code",
   "execution_count": 4,
   "id": "df1d5139-9ebd-40ab-9e0c-47331ba54f0c",
   "metadata": {},
   "outputs": [
    {
     "ename": "TypeError",
     "evalue": "'list' object is not callable",
     "output_type": "error",
     "traceback": [
      "\u001b[1;31m---------------------------------------------------------------------------\u001b[0m",
      "\u001b[1;31mTypeError\u001b[0m                                 Traceback (most recent call last)",
      "Cell \u001b[1;32mIn[4], line 2\u001b[0m\n\u001b[0;32m      1\u001b[0m \u001b[38;5;28;01mimport\u001b[39;00m \u001b[38;5;21;01msys\u001b[39;00m\n\u001b[1;32m----> 2\u001b[0m \u001b[43msys\u001b[49m\u001b[38;5;241;43m.\u001b[39;49m\u001b[43margv\u001b[49m\u001b[43m(\u001b[49m\u001b[43m)\u001b[49m\n\u001b[0;32m      4\u001b[0m script, first, second, third \u001b[38;5;241m=\u001b[39m argv\n\u001b[0;32m      6\u001b[0m \u001b[38;5;28mprint\u001b[39m(\u001b[38;5;124m\"\u001b[39m\u001b[38;5;124mThe script is called:\u001b[39m\u001b[38;5;124m\"\u001b[39m, script)\n",
      "\u001b[1;31mTypeError\u001b[0m: 'list' object is not callable"
     ]
    }
   ],
   "source": []
  },
  {
   "cell_type": "code",
   "execution_count": 2,
   "id": "980dd4f2-8e6d-48cc-974f-d62e7a970ab0",
   "metadata": {},
   "outputs": [
    {
     "ename": "ValueError",
     "evalue": "too many values to unpack (expected 2)",
     "output_type": "error",
     "traceback": [
      "\u001b[1;31m---------------------------------------------------------------------------\u001b[0m",
      "\u001b[1;31mValueError\u001b[0m                                Traceback (most recent call last)",
      "Cell \u001b[1;32mIn[2], line 3\u001b[0m\n\u001b[0;32m      1\u001b[0m \u001b[38;5;28;01mfrom\u001b[39;00m \u001b[38;5;21;01msys\u001b[39;00m \u001b[38;5;28;01mimport\u001b[39;00m argv\n\u001b[1;32m----> 3\u001b[0m script, user_name \u001b[38;5;241m=\u001b[39m argv\n\u001b[0;32m      4\u001b[0m promt \u001b[38;5;241m=\u001b[39m \u001b[38;5;124m\"\u001b[39m\u001b[38;5;124m>\u001b[39m\u001b[38;5;124m\"\u001b[39m\n\u001b[0;32m      6\u001b[0m \u001b[38;5;28mprint\u001b[39m(\u001b[38;5;124m\"\u001b[39m\u001b[38;5;124mHi \u001b[39m\u001b[38;5;132;01m%s\u001b[39;00m\u001b[38;5;124m, I\u001b[39m\u001b[38;5;124m'\u001b[39m\u001b[38;5;124mm the \u001b[39m\u001b[38;5;132;01m%s\u001b[39;00m\u001b[38;5;124m script.\u001b[39m\u001b[38;5;124m\"\u001b[39m \u001b[38;5;241m%\u001b[39m(user_name, script))\n",
      "\u001b[1;31mValueError\u001b[0m: too many values to unpack (expected 2)"
     ]
    }
   ],
   "source": [
    "\n",
    "\n",
    "script, user_name = argv\n",
    "promt = \">\"\n",
    "\n",
    "print(\"Hi %s, I'm the %s script.\" %(user_name, script))\n",
    "print(\"I'd like to ask you a few question.\")\n",
    "print(\"Do you like me %s\" % use_name)\n",
    "\n",
    "likes = input(prompt)\n",
    "\n",
    "print(\"Where do you live %s ?\" % use_name)\n",
    "lives = input(prompt)\n",
    "\n",
    "print(\"What kind of computer do you have?\")\n",
    "computer = input(prompt)\n",
    "\n",
    "print (\"\"\"\n",
    "Alright, so you said %r about liking me.\n",
    "You live in %r. not sure where that is.\n",
    "And you have a %r computer. Nice.\n",
    "\"\"\") %(likes, lives, computer)\n"
   ]
  },
  {
   "cell_type": "code",
   "execution_count": null,
   "id": "a4ec2985-952c-433f-855e-1e83740cb3cf",
   "metadata": {},
   "outputs": [],
   "source": []
  }
 ],
 "metadata": {
  "kernelspec": {
   "display_name": "Python 3 (ipykernel)",
   "language": "python",
   "name": "python3"
  },
  "language_info": {
   "codemirror_mode": {
    "name": "ipython",
    "version": 3
   },
   "file_extension": ".py",
   "mimetype": "text/x-python",
   "name": "python",
   "nbconvert_exporter": "python",
   "pygments_lexer": "ipython3",
   "version": "3.11.3"
  }
 },
 "nbformat": 4,
 "nbformat_minor": 5
}
