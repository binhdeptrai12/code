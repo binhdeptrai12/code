{
 "cells": [
  {
   "cell_type": "code",
   "execution_count": 6,
   "id": "cf150a40-340d-4c36-a8e1-0b54e5f4a262",
   "metadata": {},
   "outputs": [
    {
     "name": "stdout",
     "output_type": "stream",
     "text": [
      "There are 100 car available.\n",
      "There are only 30 drivers available.\n",
      "There will be 70 empty car today\n",
      "we can transport 1200 people today.\n",
      "we have 90 to carpool today.\n",
      "We need to put about 3.0 in each car.\n"
     ]
    }
   ],
   "source": [
    "# variables and printing\n",
    "\n",
    "cars = 100\n",
    "space_in_a_car = 40\n",
    "drivers = 30\n",
    "passengers = 90\n",
    "cars_not_driven = car - drivers\n",
    "car_driven = drivers\n",
    "carpool_capacity = car_driven * space_in_a_car\n",
    "average_passengers_per_car = passengers / car_driven\n",
    "\n",
    "print(\"There are\", cars,\"car available.\")\n",
    "print(\"There are only\", drivers, \"drivers available.\")\n",
    "print(\"There will be\", cars_not_driven,\"empty car today\")\n",
    "print(\"we can transport\", carpool_capacity,\"people today.\")\n",
    "print(\"we have\", passengers, \"to carpool today.\")\n",
    "print(\"We need to put about\", average_passengers_per_car,\"in each car.\")"
   ]
  },
  {
   "cell_type": "code",
   "execution_count": 9,
   "id": "2a336616-10a2-415d-bf45-6721e7943940",
   "metadata": {},
   "outputs": [
    {
     "name": "stdout",
     "output_type": "stream",
     "text": [
      "Hey you there.\n"
     ]
    }
   ],
   "source": [
    "print(\"Hey %s there.\"%\"you\")"
   ]
  },
  {
   "cell_type": "code",
   "execution_count": 13,
   "id": "f27025b6-781d-4652-bc06-4001e1e32e02",
   "metadata": {},
   "outputs": [
    {
     "name": "stdout",
     "output_type": "stream",
     "text": [
      "Let talk about 'Thanh Binh'\n",
      "He's 7 inches tall.\n",
      "He's 180 pounds heavy.\n",
      "Actually that 's not too heavy\n",
      "He got brown eye and back hair.\n",
      "His teeth are usually white depending on the coffe.\n",
      "If I add 180, 7 and 180 I get 212.\n"
     ]
    }
   ],
   "source": [
    "# More variable and printing\n",
    "\n",
    "my_name = \"Thanh Binh\"\n",
    "my_age = 25\n",
    "my_height = 7 #feet\n",
    "my_weight = 180 #lbs\n",
    "my_eye = 'brown'\n",
    "my_teeth = 'white'\n",
    "my_hair = 'back'\n",
    "\n",
    "print('Let talk about %r' % my_name) # %r print no matter what\n",
    "print(\"He's %d inches tall.\" % my_height)\n",
    "print(\"He's %d pounds heavy.\" % my_weight)\n",
    "print(\"Actually that 's not too heavy\")\n",
    "print(\"He got %s eye and %s hair.\" % (my_eye, my_hair))\n",
    "print(\"His teeth are usually %s depending on the coffe.\" % my_teeth)\n",
    "\n",
    "# This line is tricky, try to get it exactly right\n",
    "print(\"If I add %d, %d and %d I get %d.\" %(my_weight, my_height, my_weight, my_age + my_height + my_weight))"
   ]
  },
  {
   "cell_type": "code",
   "execution_count": null,
   "id": "d6c92937-7203-4dd1-b66c-51f0c03b12bc",
   "metadata": {},
   "outputs": [],
   "source": []
  },
  {
   "cell_type": "code",
   "execution_count": null,
   "id": "0bd616e4-a1f4-4b97-b76f-7572db467469",
   "metadata": {},
   "outputs": [],
   "source": []
  }
 ],
 "metadata": {
  "kernelspec": {
   "display_name": "Python 3 (ipykernel)",
   "language": "python",
   "name": "python3"
  },
  "language_info": {
   "codemirror_mode": {
    "name": "ipython",
    "version": 3
   },
   "file_extension": ".py",
   "mimetype": "text/x-python",
   "name": "python",
   "nbconvert_exporter": "python",
   "pygments_lexer": "ipython3",
   "version": "3.11.3"
  }
 },
 "nbformat": 4,
 "nbformat_minor": 5
}
