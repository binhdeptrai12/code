{
 "cells": [
  {
   "cell_type": "code",
   "execution_count": 3,
   "id": "37c3138c-4a84-4e40-9c48-cdca0f72fd5f",
   "metadata": {},
   "outputs": [
    {
     "name": "stdout",
     "output_type": "stream",
     "text": [
      "I could have code like this.\n",
      "this is run\n"
     ]
    }
   ],
   "source": [
    "# A comment, this is so you can read your program late.\n",
    "# Anything after the # is ignored by python.\n",
    "print(\"I could have code like this.\") # and the comment after is ignored\n",
    "# You can also use a comment to \"disable\" or comment out a piece of code:\n",
    "# print\"this won't run\"\n",
    "print(\"this is run\")"
   ]
  },
  {
   "cell_type": "code",
   "execution_count": 4,
   "id": "a5a966cb-8ccf-4b20-a680-807d656c58de",
   "metadata": {},
   "outputs": [
    {
     "name": "stdout",
     "output_type": "stream",
     "text": [
      "I will now count my chicken:\n",
      "Hen 30.0\n",
      "Roosters 97\n",
      "Now i will count my egg:\n",
      "6.75\n",
      "Is it true that 3 + 2 < 5 - 7?\n",
      "False\n",
      "What is 3 + 2? 5\n",
      "What is 5 - 7? -2\n",
      "Oh, that's why it's false\n",
      "How about some more.\n",
      "Is it great? True\n",
      "Is it greater or equal? True\n",
      "Is it less or equal? True\n"
     ]
    }
   ],
   "source": [
    "print(\"I will now count my chicken:\")\n",
    "# count Hen, Roosters and print \n",
    "print(\"Hen\", 25 + 30/6)\n",
    "print(\"Roosters\", 100 - 25*3%4)\n",
    "# count egg \n",
    "print(\"Now i will count my egg:\")\n",
    "# do math with print, and print, use python as a caculator\n",
    "print(3 + 2 + 1 - 5 + 4%2 - 1/4 + 6)\n",
    "\n",
    "print(\"Is it true that 3 + 2 < 5 - 7?\")\n",
    "# True False in print\n",
    "print(3 + 2 < 5 - 7)\n",
    "\n",
    "print(\"What is 3 + 2?\", 3 + 2)\n",
    "\n",
    "print(\"What is 5 - 7?\", 5 - 7)\n",
    "\n",
    "print(\"Oh, that's why it's false\")\n",
    "\n",
    "print(\"How about some more.\")\n",
    "\n",
    "print(\"Is it great?\", 5 > -2)\n",
    "print(\"Is it greater or equal?\", 5 >= -2)\n",
    "print(\"Is it less or equal?\", 5 >= -2)\n"
   ]
  },
  {
   "cell_type": "code",
   "execution_count": null,
   "id": "f8be1992-7a2b-4683-9da1-01a47bfc32de",
   "metadata": {},
   "outputs": [],
   "source": []
  }
 ],
 "metadata": {
  "kernelspec": {
   "display_name": "Python 3 (ipykernel)",
   "language": "python",
   "name": "python3"
  },
  "language_info": {
   "codemirror_mode": {
    "name": "ipython",
    "version": 3
   },
   "file_extension": ".py",
   "mimetype": "text/x-python",
   "name": "python",
   "nbconvert_exporter": "python",
   "pygments_lexer": "ipython3",
   "version": "3.11.3"
  }
 },
 "nbformat": 4,
 "nbformat_minor": 5
}
